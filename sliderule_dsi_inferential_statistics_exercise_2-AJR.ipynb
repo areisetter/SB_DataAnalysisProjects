{
 "cells": [
  {
   "cell_type": "markdown",
   "metadata": {},
   "source": [
    "# Examining Racial Discrimination in the US Job Market\n",
    "\n",
    "### Background\n",
    "Racial discrimination continues to be pervasive in cultures throughout the world. Researchers examined the level of racial discrimination in the United States labor market by randomly assigning identical résumés to black-sounding or white-sounding names and observing the impact on requests for interviews from employers.\n",
    "\n",
    "### Data\n",
    "In the dataset provided, each row represents a resume. The 'race' column has two values, 'b' and 'w', indicating black-sounding and white-sounding. The column 'call' has two values, 1 and 0, indicating whether the resume received a call from employers or not.\n",
    "\n",
    "Note that the 'b' and 'w' values in race are assigned randomly to the resumes when presented to the employer."
   ]
  },
  {
   "cell_type": "markdown",
   "metadata": {},
   "source": [
    "### Exercises\n",
    "You will perform a statistical analysis to establish whether race has a significant impact on the rate of callbacks for resumes.\n",
    "\n",
    "Answer the following questions **in this notebook below and submit to your Github account**. \n",
    "\n",
    "   1. What test is appropriate for this problem? Does CLT apply?\n",
    "   2. What are the null and alternate hypotheses?\n",
    "   3. Compute margin of error, confidence interval, and p-value.\n",
    "   4. Write a story describing the statistical significance in the context or the original problem.\n",
    "   5. Does your analysis mean that race/name is the most important factor in callback success? Why or why not? If not, how would you amend your analysis?\n",
    "\n",
    "You can include written notes in notebook cells using Markdown: \n",
    "   - In the control panel at the top, choose Cell > Cell Type > Markdown\n",
    "   - Markdown syntax: http://nestacms.com/docs/creating-content/markdown-cheat-sheet\n",
    "\n",
    "\n",
    "#### Resources\n",
    "+ Experiment information and data source: http://www.povertyactionlab.org/evaluation/discrimination-job-market-united-states\n",
    "+ Scipy statistical methods: http://docs.scipy.org/doc/scipy/reference/stats.html \n",
    "+ Markdown syntax: http://nestacms.com/docs/creating-content/markdown-cheat-sheet\n",
    "****"
   ]
  },
  {
   "cell_type": "markdown",
   "metadata": {},
   "source": [
    "Question 1:  What test is appropriate?  Does CLT apply?\n",
    "\n",
    "No, the data (both independent [apparent race] and dependent [callback] variables) are binary, not normally distributed, so CLT doesn't apply.\n",
    "\n",
    "We need a correlation test appropriate for binary variables.  I think the most appropriate version is known as the Phi test, which is basically a chi squared test (and the equivalent of a Pearson test for binary quantities).  Apparently sklearn has a version called matthews_corrcoef (this is the first time I've looked for it in python). The documentation for pearson says that it assumes normalized distributions, so the phi test is what we need.\n",
    "\n",
    "BUT I actually ran it both ways below, and I got the same correlation coefficient using both pearsonr and matthews_corrcoef out to 4 sigfigs, so it looks like it works either way.  And the built-in pearsonr provides a p-value (rather than just a correlation coefficient), so I'm happy to use that.\n",
    "\n",
    "There's a chance that the unstated intent here is for me to use the bootstrapping method described in the DataCamp course and use the p-value as the test statistic, but since I'm not sure whether that's asked for here, and it hardly seems necessary, I'll start by not doing it.\n",
    "\n",
    "Question 2: What are the null and alternate hypotheses?\n",
    "\n",
    "The null hypothesis is that the preceived race of the applicant does not affect whether they get called by the emplyer.\n",
    "The alternative hypothesis is that the perceived race of the applicant does affect whether they get called by the employer.  The direction of the correlation, if it exists, is most likely to indicate that a black-sounding name is less likely to be called back.\n"
   ]
  },
  {
   "cell_type": "code",
   "execution_count": 1,
   "metadata": {
    "collapsed": true
   },
   "outputs": [],
   "source": [
    "import pandas as pd\n",
    "import numpy as np\n",
    "from scipy import stats\n",
    "from sklearn.metrics import matthews_corrcoef"
   ]
  },
  {
   "cell_type": "code",
   "execution_count": 3,
   "metadata": {},
   "outputs": [],
   "source": [
    "data = pd.io.stata.read_stata('data_race/us_job_market_discrimination.dta')"
   ]
  },
  {
   "cell_type": "code",
   "execution_count": 4,
   "metadata": {},
   "outputs": [
    {
     "data": {
      "text/plain": [
       "157.0"
      ]
     },
     "execution_count": 4,
     "metadata": {},
     "output_type": "execute_result"
    }
   ],
   "source": [
    "# number of callbacks for black-sounding names\n",
    "sum(data[data.race=='b'].call)"
   ]
  },
  {
   "cell_type": "markdown",
   "metadata": {},
   "source": [
    "First, look at the call data and find the mean/std.  We'll need that to answer question 3. "
   ]
  },
  {
   "cell_type": "code",
   "execution_count": 5,
   "metadata": {},
   "outputs": [
    {
     "data": {
      "text/plain": [
       "count    4870.000000\n",
       "mean        0.080493\n",
       "std         0.272079\n",
       "min         0.000000\n",
       "25%         0.000000\n",
       "50%         0.000000\n",
       "75%         0.000000\n",
       "max         1.000000\n",
       "Name: call, dtype: float64"
      ]
     },
     "execution_count": 5,
     "metadata": {},
     "output_type": "execute_result"
    }
   ],
   "source": [
    "data.call.describe()"
   ]
  },
  {
   "cell_type": "markdown",
   "metadata": {},
   "source": [
    "Okay, mean is 0.08 and std is .272.  So most people don't get called, as we would expect.  \n",
    "\n",
    "I was asked to calculate confidence interval and margin of error. Since it isn't specified, I'll use a 2-sigma confidence interval.\n"
   ]
  },
  {
   "cell_type": "code",
   "execution_count": 7,
   "metadata": {},
   "outputs": [
    {
     "name": "stdout",
     "output_type": "stream",
     "text": [
      "0.00779760509575\n",
      "[0.07269521176969175, 0.088290421961196616]\n"
     ]
    }
   ],
   "source": [
    "MarginOfError=2*data.call.std()/(data.call.count())**(1/2)\n",
    "ConfidenceInterval=[data.call.mean()-MarginOfError, data.call.mean()+MarginOfError]\n",
    "print(MarginOfError)\n",
    "print((ConfidenceInterval))"
   ]
  },
  {
   "cell_type": "markdown",
   "metadata": {},
   "source": [
    "Next I'll find the p-value.  The pearsonr method works for this."
   ]
  },
  {
   "cell_type": "code",
   "execution_count": 8,
   "metadata": {},
   "outputs": [
    {
     "data": {
      "text/plain": [
       "(-0.05887209917662773, 3.9408030032935854e-05)"
      ]
     },
     "execution_count": 8,
     "metadata": {},
     "output_type": "execute_result"
    }
   ],
   "source": [
    "raceBinary=data.race=='b'\n",
    "#matthews_corrcoef(data.call, raceBinary)\n",
    "stats.pearsonr(data.call,raceBinary)"
   ]
  },
  {
   "cell_type": "markdown",
   "metadata": {},
   "source": [
    "Question 4:  The p-value is small, indicating that the null hypothesis is unlikely, and the correlation is negative, meaning that a black-sounding name for a candidate results in a lower probability of getting called.  All the numbers are small here, but he p-value is small and the correlation coefficient significant.  It does seem like there's a correlation between having a black-sounding name and NOT getting a call."
   ]
  },
  {
   "cell_type": "markdown",
   "metadata": {},
   "source": [
    "Question 5:  Absolutely not, I have not explored the data enough to indicate that this is the most important factor.  There are other variables that need to be controlled for.  It is likely that job experience and other factors are significant.  It is possible that, if race is correlated with one of the other factors, we will not be able to even sort out any causality (was it the race that resulted in the no-call, or another factor), but the correlation between race and calls is established."
   ]
  },
  {
   "cell_type": "code",
   "execution_count": null,
   "metadata": {
    "collapsed": true
   },
   "outputs": [],
   "source": []
  }
 ],
 "metadata": {
  "kernelspec": {
   "display_name": "Python 3",
   "language": "python",
   "name": "python3"
  },
  "language_info": {
   "codemirror_mode": {
    "name": "ipython",
    "version": 3
   },
   "file_extension": ".py",
   "mimetype": "text/x-python",
   "name": "python",
   "nbconvert_exporter": "python",
   "pygments_lexer": "ipython3",
   "version": "3.6.2"
  }
 },
 "nbformat": 4,
 "nbformat_minor": 1
}
