{
 "cells": [
  {
   "cell_type": "markdown",
   "metadata": {},
   "source": [
    "# What is the True Normal Human Body Temperature? \n",
    "\n",
    "#### Background\n",
    "\n",
    "The mean normal body temperature was held to be 37$^{\\circ}$C or 98.6$^{\\circ}$F for more than 120 years since it was first conceptualized and reported by Carl Wunderlich in a famous 1868 book. But, is this value statistically correct?"
   ]
  },
  {
   "cell_type": "markdown",
   "metadata": {},
   "source": [
    "<h3>Exercises</h3>\n",
    "\n",
    "<p>In this exercise, you will analyze a dataset of human body temperatures and employ the concepts of hypothesis testing, confidence intervals, and statistical significance.</p>\n",
    "\n",
    "<p>Answer the following questions <b>in this notebook below and submit to your Github account</b>.</p> \n",
    "\n",
    "<ol>\n",
    "<li>  Is the distribution of body temperatures normal? \n",
    "    <ul>\n",
    "    <li> Although this is not a requirement for CLT to hold (read CLT carefully), it gives us some peace of mind that the population may also be normally distributed if we assume that this sample is representative of the population.\n",
    "    </ul>\n",
    "<li>  Is the sample size large? Are the observations independent?\n",
    "    <ul>\n",
    "    <li> Remember that this is a condition for the CLT, and hence the statistical tests we are using, to apply.\n",
    "    </ul>\n",
    "<li>  Is the true population mean really 98.6 degrees F?\n",
    "    <ul>\n",
    "    <li> Would you use a one-sample or two-sample test? Why?\n",
    "    <li> In this situation, is it appropriate to use the $t$ or $z$ statistic? \n",
    "    <li> Now try using the other test. How is the result be different? Why?\n",
    "    </ul>\n",
    "<li>  Draw a small sample of size 10 from the data and repeat both tests. \n",
    "    <ul>\n",
    "    <li> Which one is the correct one to use? \n",
    "    <li> What do you notice? What does this tell you about the difference in application of the $t$ and $z$ statistic?\n",
    "    </ul>\n",
    "<li>  At what temperature should we consider someone's temperature to be \"abnormal\"?\n",
    "    <ul>\n",
    "    <li> Start by computing the margin of error and confidence interval.\n",
    "    </ul>\n",
    "<li>  Is there a significant difference between males and females in normal temperature?\n",
    "    <ul>\n",
    "    <li> What test did you use and why?\n",
    "    <li> Write a story with your conclusion in the context of the original problem.\n",
    "    </ul>\n",
    "</ol>\n",
    "\n",
    "You can include written notes in notebook cells using Markdown: \n",
    "   - In the control panel at the top, choose Cell > Cell Type > Markdown\n",
    "   - Markdown syntax: http://nestacms.com/docs/creating-content/markdown-cheat-sheet\n",
    "\n",
    "#### Resources\n",
    "\n",
    "+ Information and data sources: http://www.amstat.org/publications/jse/datasets/normtemp.txt, http://www.amstat.org/publications/jse/jse_data_archive.htm\n",
    "+ Markdown syntax: http://nestacms.com/docs/creating-content/markdown-cheat-sheet\n",
    "\n",
    "****"
   ]
  },
  {
   "cell_type": "code",
   "execution_count": 1,
   "metadata": {
    "collapsed": true
   },
   "outputs": [],
   "source": [
    "import pandas as pd\n",
    "import matplotlib.pyplot as plt\n",
    "import numpy as np\n",
    "from statsmodels.distributions.empirical_distribution import ECDF\n",
    "\n",
    "df = pd.read_csv('data/human_body_temperature.csv')"
   ]
  },
  {
   "cell_type": "markdown",
   "metadata": {
    "collapsed": true
   },
   "source": [
    "Question 1.  Is the distribution normal?  First, let's take a look at it."
   ]
  },
  {
   "cell_type": "code",
   "execution_count": 2,
   "metadata": {},
   "outputs": [
    {
     "data": {
      "image/png": "[encoded data removed]",
      "text/plain": [
       "<matplotlib.figure.Figure at 0x1a0ad13320>"
      ]
     },
     "metadata": {},
     "output_type": "display_data"
    }
   ],
   "source": [
    "#df.head()\n",
    "#df.info\n",
    "plt.hist(df['temperature'], bins=20)\n",
    "plt.xlabel('body temperature(F)')\n",
    "plt.ylabel('counts')\n",
    "plt.show()\n",
    "\n",
    "\n"
   ]
  },
  {
   "cell_type": "markdown",
   "metadata": {},
   "source": [
    "The distribution is not symmetric, with more stats in the low tail than in the high tail.  \n",
    "It does not quite seem to be a normal distribution, although it's close.  But to be sure, I'll simulate a normal distribution and compare the CDF to the data CDF.\n",
    "\n"
   ]
  },
  {
   "cell_type": "code",
   "execution_count": 4,
   "metadata": {},
   "outputs": [
    {
     "data": {
      "image/png": "[encoded data removed]",
      "text/plain": [
       "<matplotlib.figure.Figure at 0x1a12616e80>"
      ]
     },
     "metadata": {},
     "output_type": "display_data"
    }
   ],
   "source": [
    "#First, use ecdf function from DataCamp exercises to calculate the ecdf\n",
    "def ecdf(data):\n",
    "    \"\"\"Compute ECDF for a one-dimensional array of measurements.\"\"\"\n",
    "    # Number of data points: n\n",
    "    n = len(data)\n",
    "    # x-data for the ECDF: x\n",
    "    x = np.sort(data)\n",
    "    # y-data for the ECDF: y\n",
    "    y = np.arange(1, n+1) / n\n",
    "\n",
    "    return x, y\n",
    "\n",
    "# Now do simulation, calculate ecdfs and plot\n",
    "sim=np.random.normal(df['temperature'].mean(), df['temperature'].std(), 5*len(df['temperature']))\n",
    "xdata, ydata = ecdf(df['temperature'])\n",
    "xsim, ysim = ecdf(sim)\n",
    "plt.plot(xdata, ydata)\n",
    "plt.plot(xsim, ysim)\n",
    "plt.xlabel('body temperature (F)')\n",
    "plt.ylabel('CDF')\n",
    "plt.legend(['Data', 'Normal Distribution'])\n",
    "plt.show()\n",
    "\n",
    "#The data CDF does differ a little from the simulated normal distribution, but it's not bad.  \n",
    "#I would say it's an undersampled normal distribution."
   ]
  },
  {
   "cell_type": "code",
   "execution_count": 44,
   "metadata": {},
   "outputs": [
    {
     "name": "stdout",
     "output_type": "stream",
     "text": [
      "(-5.4548232923645195, 4.9021570141012155e-08)\n"
     ]
    },
    {
     "data": {
      "text/plain": [
       "Ttest_1sampResult(statistic=-5.4548232923645195, pvalue=2.4106320415561276e-07)"
      ]
     },
     "execution_count": 44,
     "metadata": {},
     "output_type": "execute_result"
    }
   ],
   "source": [
    "#2.  Is the sample size large? Are the observations independent? \n",
    "len(df['temperature'])\n",
    "# There are 130 samples, which is large enough that the CLT should apply.  \n",
    "# They are taken from individuals, and so should not be correlated (ie. they are independent.)\n",
    "#\n",
    "    "
   ]
  },
  {
   "cell_type": "markdown",
   "metadata": {},
   "source": [
    "Question 3.  Is the true population mean really 98.6 degrees F?\n",
    "    Would you use a one-sample or two-sample test? Why?\n",
    "    In this situation, is it appropriate to use the tt or zz statistic?\n",
    "    Now try using the other test. How is the result be different? Why? \n",
    "    \n",
    "Begin Answer: We need to test whether the given distribution is consistent with the 'true mean'.  \n",
    "    We have one sample, with plenty of stats, so let's use the ztest and we're testing whether it's consistent with 1 mean, so the t statistic is most appropriate"
   ]
  },
  {
   "cell_type": "code",
   "execution_count": 5,
   "metadata": {
    "scrolled": true
   },
   "outputs": [
    {
     "name": "stdout",
     "output_type": "stream",
     "text": [
      "(-5.4548232923645195, 4.9021570141012155e-08)\n"
     ]
    }
   ],
   "source": [
    "#\n",
    "from statsmodels.stats import weightstats as stests\n",
    "print(stests.ztest(df['temperature'], x2=None, value=98.6, alternative='two-sided'))\n",
    "\n"
   ]
  },
  {
   "cell_type": "markdown",
   "metadata": {},
   "source": [
    "Looks like the ztest reports that the true mean isn't 98.6\n",
    "\n",
    "Continuation of #3:  now try the other test, the 1-sample t-test.  Should be consistent with z-test.  And it is.\n",
    "\n"
   ]
  },
  {
   "cell_type": "code",
   "execution_count": 6,
   "metadata": {},
   "outputs": [
    {
     "data": {
      "text/plain": [
       "Ttest_1sampResult(statistic=-5.4548232923645195, pvalue=2.4106320415561276e-07)"
      ]
     },
     "execution_count": 6,
     "metadata": {},
     "output_type": "execute_result"
    }
   ],
   "source": [
    "from scipy import stats\n",
    "stats.ttest_1samp(df['temperature'], 98.6)\n",
    "\n"
   ]
  },
  {
   "cell_type": "markdown",
   "metadata": {},
   "source": [
    "Question 4.  Draw a small sample of size 10 from the data and repeat both tests.\n",
    "\n",
    "We're low on statistics now, so the t statistic is the correct one to use.\n",
    "\n"
   ]
  },
  {
   "cell_type": "code",
   "execution_count": 7,
   "metadata": {},
   "outputs": [
    {
     "name": "stdout",
     "output_type": "stream",
     "text": [
      "Z test result: (-1.912980056854894, 0.055750605603922622)\n",
      "Ttest_1sampResult(statistic=-1.912980056854894, pvalue=0.088040648544068262)\n"
     ]
    }
   ],
   "source": [
    "\n",
    "#define new sample of 10  random samples from the data\n",
    "small_temp=np.random.choice(df['temperature'],10)\n",
    "print('Z test result:'  , stests.ztest(small_temp, value=98.6))\n",
    "print(stats.ttest_1samp(small_temp, 98.6))\n",
    "\n"
   ]
  },
  {
   "cell_type": "markdown",
   "metadata": {},
   "source": [
    "Significantly higher p-values for both tests, since it's harder to exclude a value from a small data set\n",
    "As I re-run it several times, scores and p-values can vary wildly (depending on the sample of 10 I get)\n",
    "At the small p end, the ttest result is always bigger than the z-test result, making it much harder to conclude that the data set is inconsistent with the mean using the ttest.  It's more applicable at small N.\n",
    "\n",
    "\n"
   ]
  }
 ],
 "metadata": {
  "kernelspec": {
   "display_name": "Python 3",
   "language": "python",
   "name": "python3"
  },
  "language_info": {
   "codemirror_mode": {
    "name": "ipython",
    "version": 3
   },
   "file_extension": ".py",
   "mimetype": "text/x-python",
   "name": "python",
   "nbconvert_exporter": "python",
   "pygments_lexer": "ipython3",
   "version": "3.6.2"
  }
 },
 "nbformat": 4,
 "nbformat_minor": 1
}
