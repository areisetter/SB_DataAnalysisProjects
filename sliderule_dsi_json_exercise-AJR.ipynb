{
 "cells": [
  {
   "cell_type": "markdown",
   "metadata": {},
   "source": [
    "## imports for Python, Pandas"
   ]
  },
  {
   "cell_type": "code",
   "execution_count": 14,
   "metadata": {},
   "outputs": [],
   "source": [
    "import pandas as pd\n",
    "import json\n",
    "from pandas.io.json import json_normalize"
   ]
  },
  {
   "cell_type": "markdown",
   "metadata": {},
   "source": [
    "****\n",
    "## JSON exercise\n",
    "\n",
    "Using data in file 'data/world_bank_projects.json' and the techniques demonstrated above,\n",
    "1. Find the 10 countries with most projects\n",
    "2. Find the top 10 major project themes (using column 'mjtheme_namecode')\n",
    "3. In 2. above you will notice that some entries have only the code and the name is missing. Create a dataframe with the missing names filled in."
   ]
  },
  {
   "cell_type": "markdown",
   "metadata": {},
   "source": [
    "Question 1:  country name isn't a nested field, so just read it in as a table and count them up\n",
    "\n"
   ]
  },
  {
   "cell_type": "code",
   "execution_count": 11,
   "metadata": {},
   "outputs": [
    {
     "data": {
      "text/plain": [
       "China                 19\n",
       "Indonesia             19\n",
       "Vietnam               17\n",
       "India                 16\n",
       "Yemen, Republic of    13\n",
       "Morocco               12\n",
       "Bangladesh            12\n",
       "Nepal                 12\n",
       "Africa                11\n",
       "Mozambique            11\n",
       "Name: countryshortname, dtype: int64"
      ]
     },
     "execution_count": 11,
     "metadata": {},
     "output_type": "execute_result"
    }
   ],
   "source": [
    "wbdata=pd.read_json('world_bank_projects.json')  #read data in as a table\n",
    "freq=wbdata.countryshortname.value_counts()      # count and sort in descending order entries in column 'countryshortname'\n",
    "freq[0:10]                                       #print first 10 entries in freq, the 10 most common countries\n"
   ]
  },
  {
   "cell_type": "markdown",
   "metadata": {},
   "source": [
    "#Question 2\n",
    "#mjtheme_namecode is a nested field, so need to use json_normalize first\n",
    "#json_normalize only works on string data, so need to load data in as string first\n",
    "\n"
   ]
  },
  {
   "cell_type": "code",
   "execution_count": 12,
   "metadata": {},
   "outputs": [
    {
     "data": {
      "text/plain": [
       "Environment and natural resources management    223\n",
       "Rural development                               202\n",
       "Human development                               197\n",
       "Public sector governance                        184\n",
       "Social protection and risk management           158\n",
       "Financial and private sector development        130\n",
       "                                                122\n",
       "Social dev/gender/inclusion                     119\n",
       "Trade and integration                            72\n",
       "Urban development                                47\n",
       "Name: name, dtype: int64"
      ]
     },
     "execution_count": 12,
     "metadata": {},
     "output_type": "execute_result"
    }
   ],
   "source": [
    "mdata=json.load((open('world_bank_projects.json')))  #load data as string\n",
    "themeList=json_normalize(mdata, 'mjtheme_namecode') #flatten the nested mjtheme_namecode field\n",
    "freq=themeList.name.value_counts() #count instances of each kind of project theme\n",
    "freq[0:10]                      #print first 10 entries in freq, the 10 most common themes\n",
    "#Notice that the 7th most common theme is a blank field, as predicted\n",
    "\n"
   ]
  },
  {
   "cell_type": "markdown",
   "metadata": {},
   "source": [
    "Question #3: There are probably better ways to do this, but I'm going to make myself a little dictionary/lookup table code->names and use map to convert codes into names\n",
    "\n",
    "I'll need to start with the same two steps as #2, opening the file and flattening the field."
   ]
  },
  {
   "cell_type": "code",
   "execution_count": 13,
   "metadata": {},
   "outputs": [
    {
     "data": {
      "text/plain": [
       "Environment and natural resources management    250\n",
       "Rural development                               216\n",
       "Human development                               210\n",
       "Public sector governance                        199\n",
       "Social protection and risk management           168\n",
       "Financial and private sector development        146\n",
       "Social dev/gender/inclusion                     130\n",
       "Trade and integration                            77\n",
       "Urban development                                50\n",
       "Economic management                              38\n",
       "Name: name, dtype: int64"
      ]
     },
     "execution_count": 13,
     "metadata": {},
     "output_type": "execute_result"
    }
   ],
   "source": [
    "mdata=json.load((open('world_bank_projects.json')))  #open data as a string\n",
    "themeList=json_normalize(mdata, 'mjtheme_namecode') #flatten the nested mjtheme_namecode field\n",
    "\n",
    "mydict={}  #initialize empty dictionary\n",
    "for row in themeList.itertuples():    #loop over rows to make a dictionary\n",
    "    if row.name!='' and not(row.code in mydict):  #if the name isn't blank and I don't already have this code\n",
    "      mydict[row.code]=(row.name)           #add the code, name combination to the dictionary\n",
    "        \n",
    "#now use mydict to fill in names in the mjtheme_namecode name field.  \n",
    "#first assign them the code #s, then map to names\n",
    "themeList.name=themeList.code.values\n",
    "themeList.name=themeList.name.map(mydict)\n",
    "\n",
    "#exercise is done.  To check, repeat question #2 but with this new, complete list of theme names\n",
    "freq=themeList.name.value_counts()      #count instances of each kind of project theme\n",
    "freq[0:10]   \n",
    "#Aha!  the blank name line is gone, numbers are updated, and we have the new name of 'Economic development'"
   ]
  },
  {
   "cell_type": "code",
   "execution_count": null,
   "metadata": {
    "collapsed": true
   },
   "outputs": [],
   "source": []
  }
 ],
 "metadata": {
  "kernelspec": {
   "display_name": "Python 3",
   "language": "python",
   "name": "python3"
  },
  "language_info": {
   "codemirror_mode": {
    "name": "ipython",
    "version": 3
   },
   "file_extension": ".py",
   "mimetype": "text/x-python",
   "name": "python",
   "nbconvert_exporter": "python",
   "pygments_lexer": "ipython3",
   "version": "3.6.2"
  }
 },
 "nbformat": 4,
 "nbformat_minor": 1
}
